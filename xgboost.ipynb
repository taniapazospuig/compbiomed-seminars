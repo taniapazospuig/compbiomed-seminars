{
 "cells": [
  {
   "cell_type": "markdown",
   "id": "7b9cbd4c",
   "metadata": {},
   "source": [
    "Antes de nada: \n",
    "pip install xgboost shap scikit-learn pandas matplotlib\n"
   ]
  },
  {
   "cell_type": "code",
   "execution_count": 7,
   "id": "75ee3790",
   "metadata": {},
   "outputs": [],
   "source": [
    "import pandas as pd\n",
    "import xgboost as xgb\n",
    "import pickle\n",
    "from sklearn.model_selection import train_test_split, GridSearchCV\n",
    "from sklearn.metrics import accuracy_score, classification_report, confusion_matrix\n",
    "import shap"
   ]
  },
  {
   "cell_type": "code",
   "execution_count": 8,
   "id": "5c2612ad",
   "metadata": {},
   "outputs": [
    {
     "name": "stdout",
     "output_type": "stream",
     "text": [
      "Index(['I_r_amp', 'I_s_amp', 'I_r_s_ratio', 'I_qrs_dur', 'I_t_polarity',\n",
      "       'II_r_amp', 'II_s_amp', 'II_r_s_ratio', 'II_qrs_dur', 'II_t_polarity',\n",
      "       'III_r_amp', 'III_s_amp', 'III_r_s_ratio', 'III_qrs_dur',\n",
      "       'III_t_polarity', 'AVR_r_amp', 'AVR_s_amp', 'AVR_r_s_ratio',\n",
      "       'AVR_qrs_dur', 'AVR_t_polarity', 'AVL_r_amp', 'AVL_s_amp',\n",
      "       'AVL_r_s_ratio', 'AVL_qrs_dur', 'AVL_t_polarity', 'AVF_r_amp',\n",
      "       'AVF_s_amp', 'AVF_r_s_ratio', 'AVF_qrs_dur', 'AVF_t_polarity',\n",
      "       'V1_r_amp', 'V1_s_amp', 'V1_r_s_ratio', 'V1_qrs_dur', 'V1_t_polarity',\n",
      "       'V2_r_amp', 'V2_s_amp', 'V2_r_s_ratio', 'V2_qrs_dur', 'V2_t_polarity',\n",
      "       'V3_r_amp', 'V3_s_amp', 'V3_r_s_ratio', 'V3_qrs_dur', 'V3_t_polarity',\n",
      "       'V4_r_amp', 'V4_s_amp', 'V4_r_s_ratio', 'V4_qrs_dur', 'V4_t_polarity',\n",
      "       'V5_r_amp', 'V5_s_amp', 'V5_r_s_ratio', 'V5_qrs_dur', 'V5_t_polarity',\n",
      "       'V6_r_amp', 'V6_s_amp', 'V6_r_s_ratio', 'V6_qrs_dur', 'V6_t_polarity',\n",
      "       'PatientID'],\n",
      "      dtype='object')\n"
     ]
    }
   ],
   "source": [
    "features_df = pd.read_csv(\"features_per_patient_avg.csv\")\n",
    "print(features_df.columns)\n"
   ]
  },
  {
   "cell_type": "markdown",
   "id": "309c8cf0",
   "metadata": {},
   "source": [
    "We want to load our characteristic data from features_per_patient and full_data_corrected_2024 to unite them correcly and then train a XGBoost model. "
   ]
  },
  {
   "cell_type": "code",
   "execution_count": 9,
   "id": "5fa5c1c7",
   "metadata": {},
   "outputs": [],
   "source": [
    "with open(\"data/full_data_corrected_2024.pkl\", \"rb\") as f:\n",
    "    full_data = pickle.load(f)"
   ]
  },
  {
   "cell_type": "code",
   "execution_count": 10,
   "id": "90f86112",
   "metadata": {},
   "outputs": [
    {
     "name": "stdout",
     "output_type": "stream",
     "text": [
      "<class 'dict'>\n",
      "dict_keys(['I', 'II', 'III', 'AVR', 'AVL', 'AVF', 'V1', 'V2', 'V3', 'V4', 'V5', 'V6', 'Sex', 'HTA', 'Age', 'PVC_transition', 'SOO_chamber', 'Height', 'Weight', 'BMI', 'DM', 'DLP', 'Smoker', 'COPD', 'Sleep_apnea', 'CLINICAL_SCORE', 'SOO', 'OTorigin'])\n"
     ]
    }
   ],
   "source": [
    "print(type(full_data))  # ¿Es dict? ¿DataFrame?\n",
    "if isinstance(full_data, dict):\n",
    "    print(full_data.keys())  # Ver las claves\n",
    "elif isinstance(full_data, pd.DataFrame):\n",
    "    print(full_data.columns)  # Ver columnas\n"
   ]
  },
  {
   "cell_type": "code",
   "execution_count": 15,
   "id": "f57990d3",
   "metadata": {},
   "outputs": [
    {
     "name": "stdout",
     "output_type": "stream",
     "text": [
      "Index(['I', 'II', 'III', 'AVR', 'AVL', 'AVF', 'V1', 'V2', 'V3', 'V4', 'V5',\n",
      "       'V6', 'Sex', 'HTA', 'Age', 'PVC_transition', 'SOO_chamber', 'Height',\n",
      "       'Weight', 'BMI', 'DM', 'DLP', 'Smoker', 'COPD', 'Sleep_apnea',\n",
      "       'CLINICAL_SCORE', 'SOO', 'OTorigin'],\n",
      "      dtype='object')\n",
      "(181, 60) (181,)\n",
      "['Unión mitroaórtica' 'Pared libre anterior' 'RCC'\n",
      " 'M. papilar posteromedial' 'RVOT septal' 'Seno de Valsalva izdo.'\n",
      " 'Intersenos dcho.-izdo.' 'LVOT intersenos dcho.-izdo.'\n",
      " 'RVOT posterolateral' 'RVOT' 'Inferoseptal basal'\n",
      " 'Seno de Valsalva dcho.' 'RVOT posterior' 'Septo basal izquierdo'\n",
      " 'Ostium del SC (crux cordis)' 'Anillo tricuspídeo inferior/inferoseptal'\n",
      " 'Infundíbulo' 'RVOT anterolateral' 'Summit' 'Fascicular posterior'\n",
      " 'CS distal (summit)' 'RVOT medioseptal' 'septo' 'RVOT lateral + septal'\n",
      " 'RVOT anteroseptal' 'Anillo tricuspídeo lateral' 'Intersenos' 'LV summit'\n",
      " 'M. papilar anterolateral' 'LV summit EPI (SC)' 'Banda moderadora'\n",
      " 'VI anteroseptal basal' nan 'LVOT anterolateral' 'Papilar inferolateral'\n",
      " 'Anillo mitral posterior' 'LV perihisiana' 'RVOT septal subvalvular'\n",
      " 'Left coronary cusp, desde el ventriculo izquierdo' 'Crux cordis (SC)'\n",
      " 'rvot postero septal' 'Infudibulo' 'RVOT posteroseptal'\n",
      " 'Anillo mitral inferolateral + Unión M-A' 'Fascicular anterior'\n",
      " 'rvot pared libre' 'Anillo tricuspídeo anterior'\n",
      " 'LVOT Seno de Valsalva izdo.' 'Postero Septal Subvalvular'\n",
      " 'LV inferolateral basal' 'VI inferoseptal basal' 'rvot septo posterior'\n",
      " 'Septo basal subaótico' 'Anillo tricuspídeo septal'\n",
      " 'Seno coronario, ramo IV anterior (foco epi)' 'pared libre anterior'\n",
      " 'papilar lateral' 'Ostium de SC' 'LVOT Seno de Valsava izdo.'\n",
      " 'RVOT anterior' 'Infundibulo' 'LV anteroseptal (foco intramiocárdico)'\n",
      " 'Intersenos (LV)' 'rvot - pared libre' 'Septal posterior y anterior'\n",
      " 'LCC' 'LV inferoseptal medio' 'RVOT subvalvular septal'\n",
      " 'rvot sèeto posterior' 'Seno valsalva derecho - LVOT'\n",
      " 'fasciculo anterior LV' 'anillo lat' 'Pared libre anterolateral'\n",
      " 'Fascículo anterior' 'subvalvular aortico (summit)'\n",
      " 'Papilar anterolateral' 'rvot septal anterior' 'Septo anterior'\n",
      " 'Cúspide izquierda' 'Musculo papilar infero-medial'\n",
      " 'Septo posterior, immediatamente subvalvular' 'RVOT lateral'\n",
      " 'Papilar inferior' 'VI anteroseptal medio'\n",
      " 'RVOT anteroseptal subvalvular' 'Anillo mitral anteroseptal' 'Intersinus'\n",
      " 'Pared anterior-anteroseptal media (IAM)' 'LV inferobasal'\n",
      " 'Anillo mitral anterolateral' 'Left coronary cusp']\n"
     ]
    }
   ],
   "source": [
    "import pandas as pd\n",
    "df_labels = pd.DataFrame(full_data)\n",
    "print(df_labels.columns)\n",
    "df_labels['PatientID'] = features_df['PatientID']\n",
    "data = pd.merge(features_df, df_labels[['PatientID', 'SOO']], on='PatientID')\n",
    "\n",
    "X = data.drop(columns=['PatientID', 'SOO'])\n",
    "y = data['SOO']\n",
    "\n",
    "print(X.shape, y.shape)\n",
    "print(y.unique())"
   ]
  }
 ],
 "metadata": {
  "kernelspec": {
   "display_name": "CompBioMed25",
   "language": "python",
   "name": "python3"
  },
  "language_info": {
   "codemirror_mode": {
    "name": "ipython",
    "version": 3
   },
   "file_extension": ".py",
   "mimetype": "text/x-python",
   "name": "python",
   "nbconvert_exporter": "python",
   "pygments_lexer": "ipython3",
   "version": "3.8.20"
  }
 },
 "nbformat": 4,
 "nbformat_minor": 5
}
